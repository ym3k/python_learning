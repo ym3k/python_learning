{
 "cells": [
  {
   "cell_type": "markdown",
   "metadata": {},
   "source": [
    "# 基礎\n",
    "* 四則演算(+,-,*,/,//,%, divmod)\n",
    "* 変数(=)\n",
    "* 入出力(print, input, format)\n",
    "* 関数(def)\n",
    "* 変数のスコープ(ローカル,グローバル)\n",
    "* ライブラリ(import, from)\n",
    "* スカラデータ型(int, float, string)\n",
    "* 集合データ型 (配列、辞書、タプル)\n",
    "* 制御構造(インデント, if, for, while)\n",
    "* ファイル入出力(open, close, read, readlines, write, with)\n",
    "* コメントアウト(#, ''')\n",
    "* オブジェクト指向(class,メソッド,プロパティ)\n",
    "\n",
    "\n",
    "# 応用\n",
    "* リスト内包表記([])\n",
    "* オブジェクト指向(継承)\n",
    "* 例外処理(try)\n",
    "* データの保存(csv,json,pandas)\n",
    "* 行列(numpy)\n",
    "* グラフ表示(matplotlib)"
   ]
  },
  {
   "cell_type": "code",
   "execution_count": null,
   "metadata": {},
   "outputs": [],
   "source": []
  }
 ],
 "metadata": {
  "kernelspec": {
   "display_name": "Python 3",
   "language": "python",
   "name": "python3"
  },
  "language_info": {
   "codemirror_mode": {
    "name": "ipython",
    "version": 3
   },
   "file_extension": ".py",
   "mimetype": "text/x-python",
   "name": "python",
   "nbconvert_exporter": "python",
   "pygments_lexer": "ipython3",
   "version": "3.7.3"
  }
 },
 "nbformat": 4,
 "nbformat_minor": 2
}
